{
 "cells": [
  {
   "cell_type": "code",
   "execution_count": 87,
   "id": "2cccf2ba",
   "metadata": {},
   "outputs": [],
   "source": [
    "import numpy as np\n",
    "np.set_printoptions(precision=4)"
   ]
  },
  {
   "cell_type": "code",
   "execution_count": 2,
   "id": "9c887309",
   "metadata": {},
   "outputs": [],
   "source": [
    "probs = {\n",
    "         'Burger':{'Burger':0.1, 'Pizza':0.2, 'HotDog':0.7}, \n",
    "         'Pizza':{'Burger':0.8, 'HotDog':0.2}, \n",
    "         'HotDog':{'Burger':0.3, 'Pizza':0.45, 'HotDog':0.25}\n",
    "        }"
   ]
  },
  {
   "cell_type": "code",
   "execution_count": 19,
   "id": "13c95320",
   "metadata": {},
   "outputs": [
    {
     "data": {
      "text/plain": [
       "'HotDog'"
      ]
     },
     "execution_count": 19,
     "metadata": {},
     "output_type": "execute_result"
    }
   ],
   "source": [
    "np.random.choice(list(probs['Burger'].keys()), p=list(probs['Burger'].values()))"
   ]
  },
  {
   "cell_type": "code",
   "execution_count": 42,
   "id": "3ac29349",
   "metadata": {},
   "outputs": [],
   "source": [
    "N = 1000000\n",
    "res = []\n",
    "curr_state = 'Burger'\n",
    "res.append(curr_state)\n",
    "for i in range(N):\n",
    "    next_state = np.random.choice(list(probs[curr_state].keys()), p=list(probs[curr_state].values()))\n",
    "    res.append(next_state)\n",
    "    curr_state = next_state"
   ]
  },
  {
   "cell_type": "code",
   "execution_count": 43,
   "id": "d2aece2e",
   "metadata": {},
   "outputs": [
    {
     "data": {
      "text/plain": [
       "{'Burger': 0.353736, 'HotDog': 0.39746, 'Pizza': 0.248805}"
      ]
     },
     "execution_count": 43,
     "metadata": {},
     "output_type": "execute_result"
    }
   ],
   "source": [
    "res = np.array(res)\n",
    "val_counts = np.unique(res, return_counts=True)\n",
    "dict(zip(list(val_counts[0]), list(val_counts[1]/N)))"
   ]
  },
  {
   "cell_type": "code",
   "execution_count": null,
   "id": "2cb88ad2",
   "metadata": {},
   "outputs": [],
   "source": [
    "{'Burger': 0.35629, 'HotDog': 0.3964, 'Pizza': 0.24732}"
   ]
  },
  {
   "cell_type": "code",
   "execution_count": 46,
   "id": "6030dab4",
   "metadata": {},
   "outputs": [
    {
     "data": {
      "text/plain": [
       "array([[0.1 , 0.2 , 0.7 ],\n",
       "       [0.8 , 0.  , 0.2 ],\n",
       "       [0.3 , 0.45, 0.25]])"
      ]
     },
     "execution_count": 46,
     "metadata": {},
     "output_type": "execute_result"
    }
   ],
   "source": [
    "A = [[0.1, 0.2, 0.7], [0.8, 0, 0.2], [0.3, 0.45, 0.25]]\n",
    "A = np.array(A)\n",
    "A"
   ]
  },
  {
   "cell_type": "code",
   "execution_count": 88,
   "id": "5ceed036",
   "metadata": {},
   "outputs": [
    {
     "name": "stdout",
     "output_type": "stream",
     "text": [
      "{'Burger': 0.3538873994638071, 'Pizza': 0.24932975871313673, 'HotDog': 0.39678284182305595}\n"
     ]
    }
   ],
   "source": [
    "e_vals, e_vecs = np.linalg.eig(A.T)\n",
    "for idx in np.where(np.round(e_vals, 5) == 1)[0]:\n",
    "    print(dict(zip(list(probs.keys()), (e_vecs.T[idx]/e_vecs.T[idx].sum()).real)))"
   ]
  },
  {
   "cell_type": "code",
   "execution_count": null,
   "id": "5a562e09",
   "metadata": {},
   "outputs": [],
   "source": []
  },
  {
   "cell_type": "code",
   "execution_count": 65,
   "id": "618541fe",
   "metadata": {},
   "outputs": [],
   "source": [
    "from scipy.linalg import eig"
   ]
  },
  {
   "cell_type": "code",
   "execution_count": 66,
   "id": "2af881ac",
   "metadata": {},
   "outputs": [
    {
     "data": {
      "text/plain": [
       "(array([ 1.   +0.j    , -0.325+0.3307j, -0.325-0.3307j]),\n",
       " array([[ 0.6026+0.j    ,  0.4743+0.4183j,  0.4743-0.4183j],\n",
       "        [ 0.4246+0.j    ,  0.1581-0.4183j,  0.1581+0.4183j],\n",
       "        [ 0.6757+0.j    , -0.6325+0.j    , -0.6325-0.j    ]]),\n",
       " array([[ 0.5774+0.j    , -0.2439+0.4047j, -0.2439-0.4047j],\n",
       "        [ 0.5774+0.j    ,  0.7607+0.j    ,  0.7607-0.j    ],\n",
       "        [ 0.5774+0.j    , -0.2604-0.3609j, -0.2604+0.3609j]]))"
      ]
     },
     "execution_count": 66,
     "metadata": {},
     "output_type": "execute_result"
    }
   ],
   "source": [
    "eig(A, left=True)"
   ]
  }
 ],
 "metadata": {
  "kernelspec": {
   "display_name": "Python 3",
   "language": "python",
   "name": "python3"
  },
  "language_info": {
   "codemirror_mode": {
    "name": "ipython",
    "version": 3
   },
   "file_extension": ".py",
   "mimetype": "text/x-python",
   "name": "python",
   "nbconvert_exporter": "python",
   "pygments_lexer": "ipython3",
   "version": "3.9.0"
  }
 },
 "nbformat": 4,
 "nbformat_minor": 5
}
