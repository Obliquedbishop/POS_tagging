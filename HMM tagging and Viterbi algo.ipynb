{
 "cells": [
  {
   "cell_type": "code",
   "execution_count": 1,
   "id": "1a77af7d",
   "metadata": {},
   "outputs": [],
   "source": [
    "import numpy as np"
   ]
  },
  {
   "cell_type": "code",
   "execution_count": 10,
   "id": "d53b68ea",
   "metadata": {},
   "outputs": [],
   "source": [
    "tags = ['NNP', 'MD', 'VB', 'JJ', 'NN', 'RB', 'DT']\n",
    "words = ['Janet', 'will', 'back', 'the', 'bill']\n",
    "actual_names = ['Proper Noun', 'Modal', 'Verb', 'Adjective', 'Common Noun', 'Adverb', 'Determiner']\n",
    "tag_dict = dict(zip(tags, actual_names))"
   ]
  },
  {
   "cell_type": "code",
   "execution_count": 19,
   "id": "8f0b2ff6",
   "metadata": {},
   "outputs": [],
   "source": [
    "A = np.array([[0.3777, 0.0110, 0.0009, 0.0084, 0.0584, 0.0090, 0.0025],\n",
    " [0.0008, 0.0002, 0.7968, 0.0005, 0.0008, 0.1698, 0.0041],\n",
    " [0.0322, 0.0005, 0.0050, 0.0837, 0.0615, 0.0514, 0.2231],\n",
    " [0.0366, 0.0004, 0.0001, 0.0733, 0.4509, 0.0036, 0.0036],\n",
    " [0.0096, 0.0176, 0.0014, 0.0086, 0.1216, 0.0177, 0.0068],\n",
    " [0.0068, 0.0102, 0.1011, 0.1012, 0.0120, 0.0728, 0.0479],\n",
    " [0.1147, 0.0021, 0.0002, 0.2157, 0.4744, 0.0102, 0.0017]])"
   ]
  },
  {
   "cell_type": "code",
   "execution_count": 20,
   "id": "51e9ab73",
   "metadata": {},
   "outputs": [],
   "source": [
    "B = np.array([[0.000032, 0, 0, 0.000048, 0],\n",
    " [0, 0.308431, 0, 0, 0],\n",
    " [0, 0.000028, 0.000672, 0, 0.000028],\n",
    " [0, 0, 0.000340, 0, 0],\n",
    " [0, 0.000200, 0.000223, 0, 0.002337],\n",
    " [0, 0, 0.010446, 0, 0],\n",
    " [0, 0, 0, 0.506099, 0]])"
   ]
  },
  {
   "cell_type": "code",
   "execution_count": 21,
   "id": "0933a5de",
   "metadata": {},
   "outputs": [],
   "source": [
    "S = np.array([0.2767, 0.0006, 0.0031, 0.0453, 0.0449, 0.0510, 0.2026])"
   ]
  },
  {
   "cell_type": "code",
   "execution_count": 94,
   "id": "a25b5d62",
   "metadata": {},
   "outputs": [],
   "source": [
    "dp = dict()\n",
    "def viterbi_prob(k, i):\n",
    "    \"\"\"\n",
    "    k: sequence number\n",
    "    i: tag id\n",
    "    \"\"\"\n",
    "    if k==0:\n",
    "        dp[(k, i)] = [S[i]*B[i][k], [i]]\n",
    "        return dp[(k, i)]\n",
    "    if (k, i) in dp:\n",
    "        return dp[(k, i)]\n",
    "    prob_val = -1\n",
    "    curr_seq = []\n",
    "    for j in range(A.shape[0]):\n",
    "        prev_vit = viterbi_prob(k-1, j)\n",
    "        new_val = prev_vit[0]*A[j][i]*B[i][k]\n",
    "        if new_val > prob_val:\n",
    "            prob_val = new_val\n",
    "            curr_seq = prev_vit[1]\n",
    "    dp[(k, i)] = [prob_val, curr_seq + [i]]\n",
    "    return dp[(k,i)]"
   ]
  },
  {
   "cell_type": "code",
   "execution_count": 95,
   "id": "00d92d25",
   "metadata": {},
   "outputs": [],
   "source": [
    "def decode(words, A, B, S):\n",
    "    n = len(words)\n",
    "    max_like = 0\n",
    "    best_seq = []\n",
    "    for i in range(A.shape[0]):\n",
    "        vit = viterbi_prob(n-1, i)\n",
    "        if vit[0] > max_like:\n",
    "            max_like = vit[0]\n",
    "            best_seq = vit[1]\n",
    "    return best_seq"
   ]
  },
  {
   "cell_type": "code",
   "execution_count": 96,
   "id": "1b124da7",
   "metadata": {},
   "outputs": [],
   "source": [
    "res = decode(words, A, B, S)"
   ]
  },
  {
   "cell_type": "code",
   "execution_count": 97,
   "id": "2f794081",
   "metadata": {},
   "outputs": [
    {
     "data": {
      "text/plain": [
       "{'Janet': 'Proper Noun',\n",
       " 'will': 'Modal',\n",
       " 'back': 'Verb',\n",
       " 'the': 'Determiner',\n",
       " 'bill': 'Common Noun'}"
      ]
     },
     "execution_count": 97,
     "metadata": {},
     "output_type": "execute_result"
    }
   ],
   "source": [
    "dict(zip(words, [tag_dict[tags[i]] for i in res]))"
   ]
  },
  {
   "cell_type": "code",
   "execution_count": null,
   "id": "565035fb",
   "metadata": {},
   "outputs": [],
   "source": []
  }
 ],
 "metadata": {
  "kernelspec": {
   "display_name": "Python 3",
   "language": "python",
   "name": "python3"
  },
  "language_info": {
   "codemirror_mode": {
    "name": "ipython",
    "version": 3
   },
   "file_extension": ".py",
   "mimetype": "text/x-python",
   "name": "python",
   "nbconvert_exporter": "python",
   "pygments_lexer": "ipython3",
   "version": "3.9.0"
  }
 },
 "nbformat": 4,
 "nbformat_minor": 5
}
